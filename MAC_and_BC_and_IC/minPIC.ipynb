{
 "cells": [
  {
   "cell_type": "code",
   "execution_count": 7,
   "metadata": {},
   "outputs": [],
   "source": [
    "import numpy as np\n",
    "from itertools import permutations\n",
    "from scipy.optimize import minimize\n",
    "from scipy.spatial import ConvexHull\n",
    "import matplotlib.pyplot as plt\n",
    "import seaborn as sns\n",
    "import cvxpy as cp\n",
    "import numpy as np\n",
    "from itertools import chain, combinations\n",
    "import scipy.io\n",
    "\n",
    "sns.set(style=\"whitegrid\")"
   ]
  },
  {
   "cell_type": "code",
   "execution_count": 5,
   "metadata": {},
   "outputs": [],
   "source": [
    "def powerset(iterable):\n",
    "    s = list(iterable)\n",
    "    return chain.from_iterable(combinations(s, r) for r in range(len(s)+1))"
   ]
  },
  {
   "cell_type": "code",
   "execution_count": null,
   "metadata": {},
   "outputs": [],
   "source": [
    "# Constants\n",
    "Lx = 1 # number of antennas per transmit user\n",
    "Ly = 1 # number of antennas per receive user\n",
    "U = 2 # number of transmit and receive users\n",
    "N = 64 # number of FFT tones\n",
    "sigma_square = 1.0/9800000 # noise power\n",
    "bmin = [170.1193, 176.8150, 244.5390] "
   ]
  },
  {
   "cell_type": "code",
   "execution_count": 17,
   "metadata": {},
   "outputs": [
    {
     "name": "stdout",
     "output_type": "stream",
     "text": [
      "(2, 2, 64)\n",
      "2 64 (2, 1)\n",
      "2 64 (2, 1)\n"
     ]
    }
   ],
   "source": [
    "# load H from H.mat file\n",
    "H_nd = scipy.io.loadmat('../H_wifi_3_users.mat')['H'][:,1:,:,0]\n",
    "H_nd = np.array(H_nd, dtype=complex)\n",
    "print (H_nd.shape)\n",
    "# shape of h_nd is (num_receivers, num_transmitters, num_subcarriers)\n",
    "H = [[H_nd[:,u,n].reshape((Ly*U, Lx)) for n in range(N)] for u in range(U)]\n",
    "print (len(H), len(H[0]), H[0][0].shape)\n",
    "H = [[H[u][n] / np.sqrt(sigma_square) for n in range(N)] for u in range(U)]\n",
    "print (len(H), len(H[0]), H[0][0].shape)"
   ]
  },
  {
   "cell_type": "code",
   "execution_count": null,
   "metadata": {},
   "outputs": [],
   "source": [
    "# define a separate Rxx matrix for every user, considering all receivers and all subcarriers, as a cvx variable\n"
   ]
  },
  {
   "cell_type": "code",
   "execution_count": null,
   "metadata": {},
   "outputs": [],
   "source": [
    "def mutual_information_matrix(Rxx_u, noise_var):\n",
    "    \"\"\"\n",
    "    Calculate mutual information for a given user's autocorrelation matrix.\n",
    "    Rxx_u: autocorrelation matrix of the transmitted signal for user u\n",
    "    noise_var: variance of the noise\n",
    "    \"\"\"\n",
    "    # Mutual information using matrix notation: I(x; y) = 0.5 * log2(det(I + Rxx_u / noise_var))\n",
    "    identity_matrix = np.eye(Rxx_u.shape[0])  # Identity matrix matching Rxx dimensions\n",
    "    mi = 0.5 * np.log2(np.linalg.det(identity_matrix + Rxx_u / noise_var))\n",
    "    return mi\n",
    "\n",
    "# Example calculation for user 1's mutual information\n",
    "mi_example = mutual_information_matrix(Rxx[0], noise_variance)\n",
    "print(f\"Example Mutual Information (User 1): {mi_example}\")"
   ]
  }
 ],
 "metadata": {
  "kernelspec": {
   "display_name": "Python 3",
   "language": "python",
   "name": "python3"
  },
  "language_info": {
   "codemirror_mode": {
    "name": "ipython",
    "version": 3
   },
   "file_extension": ".py",
   "mimetype": "text/x-python",
   "name": "python",
   "nbconvert_exporter": "python",
   "pygments_lexer": "ipython3",
   "version": "3.9.6"
  }
 },
 "nbformat": 4,
 "nbformat_minor": 2
}
